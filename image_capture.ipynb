{
 "cells": [
  {
   "cell_type": "code",
   "execution_count": null,
   "metadata": {},
   "outputs": [],
   "source": [
    "import cv2\n",
    "import os\n",
    "import time"
   ]
  },
  {
   "cell_type": "code",
   "execution_count": null,
   "metadata": {},
   "outputs": [],
   "source": [
    "cap = cv2.VideoCapture(0)\n",
    "time.sleep(2)\n",
    "\n",
    "pos = ['up left', 'up', 'up right', 'right', 'down right', 'down', 'down left', 'left', 'center']\n",
    "\n",
    "if os.path.isdir('capture') == False:\n",
    "\tos.mkdir('capture')"
   ]
  },
  {
   "cell_type": "code",
   "execution_count": null,
   "metadata": {},
   "outputs": [],
   "source": [
    "for p in pos:\n",
    "\twhile True:\n",
    "\t\tret, frame = cap.read()\n",
    "\t\t(h, w) = frame.shape[:2]\n",
    "\t\tframe = cv2.flip(frame, 1)\n",
    "\t\tcv2.rectangle(frame, (w//2-h//4, h//2-h//4), (w//2+h//4, h//2+h//4), (255,255,255), 10)\n",
    "\t\tcv2.putText(frame, f'c : capture images for {p}', (20,40), cv2.FONT_HERSHEY_SIMPLEX, 1, (0,0,255), 2)\n",
    "\t\tcv2.putText(frame, f'q : exit', (20,75), cv2.FONT_HERSHEY_SIMPLEX, 1, (0,0,255), 2)\n",
    "\t\tcv2.imshow('Capture', frame)\n",
    "\n",
    "\t\tk = cv2.waitKey(1)\n",
    "\t\t\n",
    "\t\tif k & 0xFF == ord(\"c\"):\n",
    "\t\t\tfor i in range(3,0,-1):\n",
    "\t\t\t\tt_end = time.time() + 1\n",
    "\t\t\t\twhile time.time() < t_end:\n",
    "\t\t\t\t\tret, frame = cap.read()\n",
    "\t\t\t\t\tframe = cv2.flip(frame, 1)\n",
    "\t\t\t\t\tcv2.rectangle(frame, (w//2-h//4, h//2-h//4), (w//2+h//4, h//2+h//4), (255,255,255), 10)\n",
    "\t\t\t\t\tcv2.putText(frame, f'{i}', (w//2 - 30, h//2 + 30), cv2.FONT_HERSHEY_SIMPLEX, 3, (255,255,255), 5)\n",
    "\t\t\t\t\tcv2.imshow('Capture', frame)\n",
    "\t\t\t\t\tif cv2.waitKey(1) & 0xFF == ord(\"q\"):\n",
    "\t\t\t\t\t\tbreak\n",
    "\n",
    "\t\t\tfor i in range(100):\n",
    "\t\t\t\tret, frame = cap.read()\n",
    "\t\t\t\tframe = cv2.flip(frame, 1)\n",
    "\t\t\t\troi = frame[h//2-h//4 : h//2+h//4, w//2-h//4 : w//2+h//4]\n",
    "\t\t\t\tcv2.imwrite(os.getcwd() + os.sep + 'capture' + os.sep + f'{p.replace(\" \", \"_\")}_{i+1}.jpg', roi)\n",
    "\t\t\t\tcv2.rectangle(frame, (w//2-h//4, h//2-h//4), (w//2+h//4, h//2+h//4), (0,0,255), 10)\n",
    "\t\t\t\tcv2.putText(frame, f'{p}', (20,60), cv2.FONT_HERSHEY_SIMPLEX, 2, (0,0,255), 5)\n",
    "\t\t\t\tcv2.imshow('Capture', frame)\n",
    "\t\t\t\tif cv2.waitKey(1) & 0xFF == ord(\"q\"):\n",
    "\t\t\t\t\tbreak\n",
    "\t\t\tbreak\n",
    "\n",
    "\t\tif k & 0xFF == ord(\"q\"):\n",
    "\t\t\tcap.release()\n",
    "\t\t\tcv2.destroyAllWindows()\n",
    "\t\t\texit(0)"
   ]
  },
  {
   "cell_type": "code",
   "execution_count": null,
   "metadata": {},
   "outputs": [],
   "source": [
    "ret, frame = cap.read()\n",
    "frame = cv2.flip(frame, 1)\n",
    "cv2.putText(frame, 'Capture Complete!', (w//2-150,h//2), cv2.FONT_HERSHEY_SIMPLEX, 1, (0,255,0), 3)\n",
    "cv2.imshow('Capture', frame)\n",
    "cv2.waitKey(5000)\n",
    "cap.release()\n",
    "cv2.destroyAllWindows()"
   ]
  }
 ],
 "metadata": {
  "anaconda-cloud": {},
  "kernelspec": {
   "display_name": "Python 3",
   "language": "python",
   "name": "python3"
  },
  "language_info": {
   "codemirror_mode": {
    "name": "ipython",
    "version": 3
   },
   "file_extension": ".py",
   "mimetype": "text/x-python",
   "name": "python",
   "nbconvert_exporter": "python",
   "pygments_lexer": "ipython3",
   "version": "3.8.2"
  }
 },
 "nbformat": 4,
 "nbformat_minor": 1
}
