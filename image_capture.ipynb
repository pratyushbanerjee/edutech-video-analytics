{
 "cells": [
  {
   "cell_type": "code",
   "execution_count": 1,
   "metadata": {},
   "outputs": [],
   "source": [
    "import cv2\n",
    "import os\n",
    "import time"
   ]
  },
  {
   "cell_type": "code",
   "execution_count": 2,
   "metadata": {},
   "outputs": [],
   "source": [
    "cap = cv2.VideoCapture(0)\n",
    "time.sleep(2)\n",
    "\n",
    "pos = ['up left', 'up', 'up right', 'right', 'down right', 'down', 'down left', 'center']\n",
    "\n",
    "if os.path.isdir('capture') == False:\n",
    "\tos.mkdir('capture')"
   ]
  },
  {
   "cell_type": "code",
   "execution_count": 3,
   "metadata": {},
   "outputs": [
    {
     "ename": "AttributeError",
     "evalue": "'NoneType' object has no attribute 'shape'",
     "output_type": "error",
     "traceback": [
      "\u001b[0;31m---------------------------------------------------------------------------\u001b[0m",
      "\u001b[0;31mAttributeError\u001b[0m                            Traceback (most recent call last)",
      "\u001b[0;32m<ipython-input-3-2c9043b4e849>\u001b[0m in \u001b[0;36m<module>\u001b[0;34m\u001b[0m\n\u001b[1;32m      2\u001b[0m         \u001b[0;32mwhile\u001b[0m \u001b[0;32mTrue\u001b[0m\u001b[0;34m:\u001b[0m\u001b[0;34m\u001b[0m\u001b[0;34m\u001b[0m\u001b[0m\n\u001b[1;32m      3\u001b[0m                 \u001b[0mret\u001b[0m\u001b[0;34m,\u001b[0m \u001b[0mframe\u001b[0m \u001b[0;34m=\u001b[0m \u001b[0mcap\u001b[0m\u001b[0;34m.\u001b[0m\u001b[0mread\u001b[0m\u001b[0;34m(\u001b[0m\u001b[0;34m)\u001b[0m\u001b[0;34m\u001b[0m\u001b[0;34m\u001b[0m\u001b[0m\n\u001b[0;32m----> 4\u001b[0;31m                 \u001b[0;34m(\u001b[0m\u001b[0mh\u001b[0m\u001b[0;34m,\u001b[0m \u001b[0mw\u001b[0m\u001b[0;34m)\u001b[0m \u001b[0;34m=\u001b[0m \u001b[0mframe\u001b[0m\u001b[0;34m.\u001b[0m\u001b[0mshape\u001b[0m\u001b[0;34m[\u001b[0m\u001b[0;34m:\u001b[0m\u001b[0;36m2\u001b[0m\u001b[0;34m]\u001b[0m\u001b[0;34m\u001b[0m\u001b[0;34m\u001b[0m\u001b[0m\n\u001b[0m\u001b[1;32m      5\u001b[0m                 \u001b[0mframe\u001b[0m \u001b[0;34m=\u001b[0m \u001b[0mcv2\u001b[0m\u001b[0;34m.\u001b[0m\u001b[0mflip\u001b[0m\u001b[0;34m(\u001b[0m\u001b[0mframe\u001b[0m\u001b[0;34m,\u001b[0m \u001b[0;36m1\u001b[0m\u001b[0;34m)\u001b[0m\u001b[0;34m\u001b[0m\u001b[0;34m\u001b[0m\u001b[0m\n\u001b[1;32m      6\u001b[0m                 \u001b[0mcv2\u001b[0m\u001b[0;34m.\u001b[0m\u001b[0mrectangle\u001b[0m\u001b[0;34m(\u001b[0m\u001b[0mframe\u001b[0m\u001b[0;34m,\u001b[0m \u001b[0;34m(\u001b[0m\u001b[0mw\u001b[0m\u001b[0;34m//\u001b[0m\u001b[0;36m2\u001b[0m\u001b[0;34m-\u001b[0m\u001b[0mh\u001b[0m\u001b[0;34m//\u001b[0m\u001b[0;36m4\u001b[0m\u001b[0;34m,\u001b[0m \u001b[0mh\u001b[0m\u001b[0;34m//\u001b[0m\u001b[0;36m2\u001b[0m\u001b[0;34m-\u001b[0m\u001b[0mh\u001b[0m\u001b[0;34m//\u001b[0m\u001b[0;36m4\u001b[0m\u001b[0;34m)\u001b[0m\u001b[0;34m,\u001b[0m \u001b[0;34m(\u001b[0m\u001b[0mw\u001b[0m\u001b[0;34m//\u001b[0m\u001b[0;36m2\u001b[0m\u001b[0;34m+\u001b[0m\u001b[0mh\u001b[0m\u001b[0;34m//\u001b[0m\u001b[0;36m4\u001b[0m\u001b[0;34m,\u001b[0m \u001b[0mh\u001b[0m\u001b[0;34m//\u001b[0m\u001b[0;36m2\u001b[0m\u001b[0;34m+\u001b[0m\u001b[0mh\u001b[0m\u001b[0;34m//\u001b[0m\u001b[0;36m4\u001b[0m\u001b[0;34m)\u001b[0m\u001b[0;34m,\u001b[0m \u001b[0;34m(\u001b[0m\u001b[0;36m255\u001b[0m\u001b[0;34m,\u001b[0m\u001b[0;36m255\u001b[0m\u001b[0;34m,\u001b[0m\u001b[0;36m255\u001b[0m\u001b[0;34m)\u001b[0m\u001b[0;34m,\u001b[0m \u001b[0;36m10\u001b[0m\u001b[0;34m)\u001b[0m\u001b[0;34m\u001b[0m\u001b[0;34m\u001b[0m\u001b[0m\n",
      "\u001b[0;31mAttributeError\u001b[0m: 'NoneType' object has no attribute 'shape'"
     ]
    }
   ],
   "source": [
    "for p in pos:\n",
    "\twhile True:\n",
    "\t\tret, frame = cap.read()\n",
    "\t\t(h, w) = frame.shape[:2]\n",
    "\t\tframe = cv2.flip(frame, 1)\n",
    "\t\tcv2.rectangle(frame, (w//2-h//4, h//2-h//4), (w//2+h//4, h//2+h//4), (255,255,255), 10)\n",
    "\t\tcv2.putText(frame, f'c : capture images for {p}', (20,40), cv2.FONT_HERSHEY_SIMPLEX, 1, (0,0,255), 2)\n",
    "\t\tcv2.putText(frame, f'q : exit', (20,75), cv2.FONT_HERSHEY_SIMPLEX, 1, (0,0,255), 2)\n",
    "\t\tcv2.imshow('Capture', frame)\n",
    "\n",
    "\t\tk = cv2.waitKey(1)\n",
    "\t\t\n",
    "\t\tif k & 0xFF == ord(\"c\"):\n",
    "\t\t\tfor i in range(3,0,-1):\n",
    "\t\t\t\tt_end = time.time() + 1\n",
    "\t\t\t\twhile time.time() < t_end:\n",
    "\t\t\t\t\tret, frame = cap.read()\n",
    "\t\t\t\t\tframe = cv2.flip(frame, 1)\n",
    "\t\t\t\t\tcv2.rectangle(frame, (w//2-h//4, h//2-h//4), (w//2+h//4, h//2+h//4), (255,255,255), 10)\n",
    "\t\t\t\t\tcv2.putText(frame, f'{i}', (w//2 - 30, h//2 + 30), cv2.FONT_HERSHEY_SIMPLEX, 3, (255,255,255), 5)\n",
    "\t\t\t\t\tcv2.imshow('Capture', frame)\n",
    "\t\t\t\t\tif cv2.waitKey(1) & 0xFF == ord(\"q\"):\n",
    "\t\t\t\t\t\tbreak\n",
    "\n",
    "\t\t\tfor i in range(50):\n",
    "\t\t\t\tret, frame = cap.read()\n",
    "\t\t\t\tframe = cv2.flip(frame, 1)\n",
    "\t\t\t\troi = frame[h//2-h//4 : h//2+h//4, w//2-h//4 : w//2+h//4]\n",
    "\t\t\t\tcv2.imwrite(os.getcwd() + f'/capture/{p.replace(\" \", \"_\")}_{i+1}.jpg', roi)\n",
    "\t\t\t\tcv2.rectangle(frame, (w//2-h//4, h//2-h//4), (w//2+h//4, h//2+h//4), (0,0,255), 10)\n",
    "\t\t\t\tcv2.putText(frame, f'{p}', (20,60), cv2.FONT_HERSHEY_SIMPLEX, 2, (0,0,255), 5)\n",
    "\t\t\t\tcv2.imshow('Capture', frame)\n",
    "\t\t\t\tif cv2.waitKey(1) & 0xFF == ord(\"q\"):\n",
    "\t\t\t\t\tbreak\n",
    "\t\t\tbreak\n",
    "\n",
    "\t\tif k & 0xFF == ord(\"q\"):\n",
    "\t\t\tcap.release()\n",
    "\t\t\tcv2.destroyAllWindows()\n",
    "\t\t\texit(0)"
   ]
  },
  {
   "cell_type": "code",
   "execution_count": null,
   "metadata": {},
   "outputs": [],
   "source": [
    "ret, frame = cap.read()\n",
    "frame = cv2.flip(frame, 1)\n",
    "cv2.putText(frame, 'Capture Complete!', (w//2-150,h//2), cv2.FONT_HERSHEY_SIMPLEX, 1, (0,255,0), 3)\n",
    "cv2.imshow('Capture', frame)\n",
    "cv2.waitKey(5000)\n",
    "\n",
    "cap.release()\n",
    "cv2.destroyAllWindows()"
   ]
  },
  {
   "cell_type": "code",
   "execution_count": null,
   "metadata": {},
   "outputs": [],
   "source": []
  }
 ],
 "metadata": {
  "anaconda-cloud": {},
  "kernelspec": {
   "display_name": "Python 3",
   "language": "python",
   "name": "python3"
  },
  "language_info": {
   "codemirror_mode": {
    "name": "ipython",
    "version": 3
   },
   "file_extension": ".py",
   "mimetype": "text/x-python",
   "name": "python",
   "nbconvert_exporter": "python",
   "pygments_lexer": "ipython3",
   "version": "3.8.2"
  }
 },
 "nbformat": 4,
 "nbformat_minor": 1
}
