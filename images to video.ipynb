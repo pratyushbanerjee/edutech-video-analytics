{
 "cells": [
  {
   "cell_type": "code",
   "execution_count": 1,
   "metadata": {},
   "outputs": [],
   "source": [
    "import cv2\n",
    "import time\n",
    "import os"
   ]
  },
  {
   "cell_type": "code",
   "execution_count": 2,
   "metadata": {},
   "outputs": [],
   "source": [
    "video_codec = cv2.VideoWriter_fourcc(*'XVID')\n",
    "fps=15\n",
    "width, height = 864, 480"
   ]
  },
  {
   "cell_type": "code",
   "execution_count": null,
   "metadata": {},
   "outputs": [],
   "source": [
    "image_dir = r'C:\\Users\\GEETI\\Pictures\\Saved Pictures\\pics'         #we need to give any directory name over here \n",
    "saved_frame_name=image_dir+os.sep+'video_2.avi'                    #give the video name which you want to store in the directory\n",
    "\n",
    "out = cv2.VideoWriter(saved_frame_name, video_codec, fps, (864, 480))\n",
    "\n",
    "for images in os.listdir(image_dir):\n",
    "    image = cv2.imread(image_dir+os.sep+images)\n",
    "    if image is not None:\n",
    "        print(image.shape)\n",
    "        image = cv2.resize(image, (width, height))\n",
    "        frame_count = 0\n",
    "        time = 1                                                   #time for capturing one frame\n",
    "        while(frame_count < time*fps):\n",
    "            out.write(image)\n",
    "            frame_count += 1\n",
    "\n",
    "out.release()\n",
    "cv2.destroyAllWindows()"
   ]
  },
  {
   "cell_type": "code",
   "execution_count": null,
   "metadata": {},
   "outputs": [],
   "source": []
  }
 ],
 "metadata": {
  "kernelspec": {
   "display_name": "Python 3",
   "language": "python",
   "name": "python3"
  },
  "language_info": {
   "codemirror_mode": {
    "name": "ipython",
    "version": 3
   },
   "file_extension": ".py",
   "mimetype": "text/x-python",
   "name": "python",
   "nbconvert_exporter": "python",
   "pygments_lexer": "ipython3",
   "version": "3.7.6"
  }
 },
 "nbformat": 4,
 "nbformat_minor": 4
}
