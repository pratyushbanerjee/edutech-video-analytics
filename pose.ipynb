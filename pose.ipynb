{
 "cells": [
  {
   "cell_type": "code",
   "execution_count": 19,
   "metadata": {},
   "outputs": [],
   "source": [
    "import cv2\n",
    "import numpy as np\n",
    "import dlib\n",
    "from imutils import face_utils\n",
    "import imutils\n",
    "import tensorflow as tf\n",
    "import deepgaze\n",
    "from deepgaze.head_pose_estimation import CnnHeadPoseEstimator"
   ]
  },
  {
   "cell_type": "code",
   "execution_count": 20,
   "metadata": {},
   "outputs": [],
   "source": [
    "detector = dlib.get_frontal_face_detector()\n",
    "predictor = dlib.shape_predictor('shape_predictor_68_face_landmarks.dat')"
   ]
  },
  {
   "cell_type": "code",
   "execution_count": 21,
   "metadata": {},
   "outputs": [
    {
     "name": "stdout",
     "output_type": "stream",
     "text": [
      "INFO:tensorflow:Restoring parameters from ./deepgaze/etc/tensorflow/head_pose/pitch/cnn_cccdd_30k.tf\n",
      "INFO:tensorflow:Restoring parameters from ./deepgaze/etc/tensorflow/head_pose/yaw/cnn_cccdd_30k.tf\n",
      "INFO:tensorflow:Restoring parameters from ./deepgaze/etc/tensorflow/head_pose/roll/cnn_cccdd_30k.tf\n"
     ]
    }
   ],
   "source": [
    "sess = tf.Session()\n",
    "head_pose_estimator = CnnHeadPoseEstimator(sess)\n",
    "head_pose_estimator.load_pitch_variables('./deepgaze/etc/tensorflow/head_pose/pitch/cnn_cccdd_30k.tf')\n",
    "head_pose_estimator.load_yaw_variables('./deepgaze/etc/tensorflow/head_pose/yaw/cnn_cccdd_30k.tf')\n",
    "head_pose_estimator.load_roll_variables('./deepgaze/etc/tensorflow/head_pose/roll/cnn_cccdd_30k.tf')"
   ]
  },
  {
   "cell_type": "code",
   "execution_count": 22,
   "metadata": {},
   "outputs": [],
   "source": [
    "cap = cv2.VideoCapture(0)\n",
    "while(True):\n",
    "    ret, frame = cap.read()\n",
    "    frame = cv2.flip(frame, 1)\n",
    "    gray = cv2.cvtColor(frame, cv2.COLOR_BGR2GRAY)\n",
    "    (fh, fw) = frame.shape[:2]\n",
    "\n",
    "    if not ret:\n",
    "        break\n",
    "\n",
    "    faces = detector(gray, 0)\n",
    "\n",
    "    for face in faces:\n",
    "        (x, y, w, h) = face_utils.rect_to_bb(face)\n",
    "        cv2.rectangle(frame, (x, y), (x + w, y + h), (0, 255, 0), 2)\n",
    "        image = frame[y:y + h, x:x + w]\n",
    "        try:\n",
    "            image = cv2.resize(image, (480,480))\n",
    "        except:\n",
    "            print('Exception')\n",
    "        font = cv2.FONT_HERSHEY_DUPLEX\n",
    "\n",
    "        pitch = head_pose_estimator.return_pitch(image,radians=True)[0][0][0]\n",
    "        yaw = head_pose_estimator.return_yaw(image,radians=True)[0][0][0]\n",
    "        roll = head_pose_estimator.return_roll(image,radians=True)[0][0][0]\n",
    "        \n",
    "#         print('data points ', 'pitch : ', pitch, ' roll ', roll, ' yaw ', yaw)\n",
    "        \n",
    "        FONT = cv2.FONT_HERSHEY_DUPLEX\n",
    "        cv2.putText(frame, 'pitch = {:.2f}'.format(pitch), (20,25), FONT, 0.7, (0,255,0), 1)\n",
    "        cv2.putText(frame, 'roll = {:.2f}'.format(roll), (20,50), FONT, 0.7, (0,255,0), 1)\n",
    "        cv2.putText(frame, 'yaw = {:.2f}'.format(yaw), (20,75), FONT, 0.7, (0,255,0), 1)\n",
    "\n",
    "        if pitch < -0.15 or pitch > 0:\n",
    "            cv2.rectangle(frame, (x, y), (x + w, y + h), (0, 0, 255), 2)\n",
    "        if yaw < -0.5 or yaw > 0.5:\n",
    "            cv2.rectangle(frame, (x, y), (x + w, y + h), (0, 0, 255), 2)\n",
    "\n",
    "    cv2.imshow('pose', frame)    \n",
    "    if cv2.waitKey(1) & 0xFF == ord('q'):\n",
    "        break"
   ]
  },
  {
   "cell_type": "code",
   "execution_count": 23,
   "metadata": {},
   "outputs": [],
   "source": [
    "cap.release()\n",
    "cv2.destroyAllWindows()   "
   ]
  },
  {
   "cell_type": "code",
   "execution_count": null,
   "metadata": {},
   "outputs": [],
   "source": []
  }
 ],
 "metadata": {
  "anaconda-cloud": {},
  "kernelspec": {
   "display_name": "Python 2",
   "language": "python",
   "name": "python2"
  },
  "language_info": {
   "codemirror_mode": {
    "name": "ipython",
    "version": 2
   },
   "file_extension": ".py",
   "mimetype": "text/x-python",
   "name": "python",
   "nbconvert_exporter": "python",
   "pygments_lexer": "ipython2",
   "version": "2.7.18rc1"
  }
 },
 "nbformat": 4,
 "nbformat_minor": 1
}
